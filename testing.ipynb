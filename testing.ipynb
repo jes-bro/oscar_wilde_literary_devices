{
 "cells": [
  {
   "cell_type": "code",
   "execution_count": 3,
   "metadata": {},
   "outputs": [
    {
     "ename": "TypeError",
     "evalue": "plot_most_freq_words() missing 1 required positional argument: 'num_data_pts'",
     "output_type": "error",
     "traceback": [
      "\u001b[0;31m---------------------------------------------------------------------------\u001b[0m",
      "\u001b[0;31mTypeError\u001b[0m                                 Traceback (most recent call last)",
      "\u001b[0;32m/tmp/ipykernel_3666/1156059646.py\u001b[0m in \u001b[0;36m<module>\u001b[0;34m\u001b[0m\n\u001b[1;32m      6\u001b[0m \u001b[0mlord_arthur_saviles_crimes\u001b[0m \u001b[0;34m=\u001b[0m \u001b[0mutils\u001b[0m\u001b[0;34m.\u001b[0m\u001b[0mremove_extra_text\u001b[0m\u001b[0;34m(\u001b[0m\u001b[0mlord_arthur_saviles_crimes_raw\u001b[0m\u001b[0;34m)\u001b[0m\u001b[0;34m\u001b[0m\u001b[0;34m\u001b[0m\u001b[0m\n\u001b[1;32m      7\u001b[0m \u001b[0;34m\u001b[0m\u001b[0m\n\u001b[0;32m----> 8\u001b[0;31m \u001b[0mutils\u001b[0m\u001b[0;34m.\u001b[0m\u001b[0mplot_most_freq_words\u001b[0m\u001b[0;34m(\u001b[0m\u001b[0mlord_arthur_saviles_crimes\u001b[0m\u001b[0;34m)\u001b[0m\u001b[0;34m\u001b[0m\u001b[0;34m\u001b[0m\u001b[0m\n\u001b[0m",
      "\u001b[0;31mTypeError\u001b[0m: plot_most_freq_words() missing 1 required positional argument: 'num_data_pts'"
     ]
    }
   ],
   "source": [
    "import utils\n",
    "\n",
    "lord_arthur_saviles_crimes_raw = utils.get_data_from_book(\"https://www.gutenberg.org/files/773/773-0.txt\",\n",
    "    \"Lord Arthur Savile's Crime And Other Short Stories\",)\n",
    "\n",
    "lord_arthur_saviles_crimes = utils.remove_extra_text(lord_arthur_saviles_crimes_raw)\n",
    "\n",
    "utils.plot_most_freq_words(lord_arthur_saviles_crimes, 30)"
   ]
  }
 ],
 "metadata": {
  "kernelspec": {
   "display_name": "base",
   "language": "python",
   "name": "python3"
  },
  "language_info": {
   "codemirror_mode": {
    "name": "ipython",
    "version": 3
   },
   "file_extension": ".py",
   "mimetype": "text/x-python",
   "name": "python",
   "nbconvert_exporter": "python",
   "pygments_lexer": "ipython3",
   "version": "3.9.13"
  },
  "orig_nbformat": 4
 },
 "nbformat": 4,
 "nbformat_minor": 2
}
