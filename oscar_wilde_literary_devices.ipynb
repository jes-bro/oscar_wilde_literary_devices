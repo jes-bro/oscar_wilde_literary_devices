{
 "cells": [
  {
   "attachments": {},
   "cell_type": "markdown",
   "metadata": {},
   "source": [
    "# Oscar Wilde's Use of Literary Devices Over Time\n",
    "##### Jessica Brown and Lauren Nalajala\n",
    "## Background\n",
    "Talk about Oscar Wilde's life here\n",
    "\n",
    "And the goal of this project here"
   ]
  },
  {
   "attachments": {},
   "cell_type": "markdown",
   "metadata": {},
   "source": [
    "## Intial Text Processing\n",
    "Talk about getting the data, processing it (ie. what we removed)\n",
    "\n",
    "## Word Usage\n",
    "Talk about how we got the most common words"
   ]
  },
  {
   "cell_type": "code",
   "execution_count": null,
   "metadata": {},
   "outputs": [],
   "source": [
    "# create plots of his most commonly used words in one book, and focus in on specific words here?"
   ]
  },
  {
   "attachments": {},
   "cell_type": "markdown",
   "metadata": {},
   "source": []
  }
 ],
 "metadata": {
  "language_info": {
   "name": "python"
  },
  "orig_nbformat": 4
 },
 "nbformat": 4,
 "nbformat_minor": 2
}
