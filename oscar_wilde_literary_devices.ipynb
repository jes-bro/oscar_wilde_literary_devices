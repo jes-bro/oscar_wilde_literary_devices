{
 "cells": [
  {
   "cell_type": "code",
   "execution_count": 1,
   "metadata": {},
   "outputs": [],
   "source": [
    "%load_ext autoreload\n",
    "%autoreload 2\n",
    "\n",
    "import text_processing\n",
    "import utils\n",
    "import tf_idf"
   ]
  },
  {
   "attachments": {},
   "cell_type": "markdown",
   "metadata": {},
   "source": [
    "# Wilde Ride - A Literary Analysis of Oscar Wilde's Corpus\n",
    "##### Jessica Brown and Lauren Nalajala\n",
    "## Background\n",
    "Talk about Oscar Wilde's life here (add image for timeline of his life?)\n",
    "\n",
    "And the goal of this project here\n",
    "\n",
    "## Intial Text Processing\n",
    "Talk about getting the data, processing it (ie. what we removed)"
   ]
  },
  {
   "cell_type": "code",
   "execution_count": null,
   "metadata": {},
   "outputs": [],
   "source": [
    "#Import data from wilde, as well as other authors"
   ]
  },
  {
   "attachments": {},
   "cell_type": "markdown",
   "metadata": {},
   "source": [
    "## Word Usage\n",
    "We decided to filter out the most common words from our alliterative sequence function and tf-idf functions to glean more pertinent insights from the data. Below is a plot of the most common words across all books that helped inform the list of common words we filtered from the data."
   ]
  },
  {
   "cell_type": "code",
   "execution_count": 1,
   "metadata": {},
   "outputs": [
    {
     "data": {
      "image/png": "[encoded data removed]",
      "text/plain": [
       "<Figure size 1440x504 with 1 Axes>"
      ]
     },
     "metadata": {
      "needs_background": "light"
     },
     "output_type": "display_data"
    }
   ],
   "source": [
    "# Plot of most popular words across all books, in descending order from left to right\n",
    "## Lauren can u replace these urls with ur own txt files of all the books - i just dont have them all downloaded\n",
    "from utils import plot_most_freq_words_texts\n",
    "from plotting import plot_freq_bar\n",
    "\n",
    "# List of tuples, where each tuple corresponds to a text in his corpus. The first tuple index represents the url of the text file, which is helpful\n",
    "# in extracting the data, and the second index is the name of the book, which ends up being used to name the local text file on our machine.\n",
    "list_of_urls = [\n",
    "    (\"https://www.gutenberg.org/files/885/885-0.txt\", \"ideal_husband\"),\n",
    "    (\"https://www.gutenberg.org/cache/epub/42704/pg42704.txt\", \"salome\"),\n",
    "    (\"https://www.gutenberg.org/files/844/844-0.txt\", \"importance_earnest\"),\n",
    "    (\"https://www.gutenberg.org/cache/epub/921/pg921.txt\", \"de_profundis\"),\n",
    "    (\"https://www.gutenberg.org/cache/epub/30120/pg30120.txt\", \"happy_prince\"),\n",
    "]\n",
    "num_data_pts = 20\n",
    "freqs = plot_most_freq_words_texts(list_of_urls, num_data_pts)\n",
    "plot_freq_bar(freqs)"
   ]
  },
  {
   "attachments": {},
   "cell_type": "markdown",
   "metadata": {},
   "source": [
    "Analyze most commonly used words here\n",
    "\n",
    "## By the Numbers - some sort of catchy title here?\n",
    "Numerical analysis of Wilde's writing - average length of words, average length of sentences over time\n",
    "Maybe a comparison with another book?"
   ]
  },
  {
   "cell_type": "code",
   "execution_count": null,
   "metadata": {},
   "outputs": [],
   "source": [
    "#plots for word length, sentence length of wilde over time\\\n",
    "#also scatter plot of average word/sentence length of wilde's books and compared to other authors"
   ]
  },
  {
   "attachments": {},
   "cell_type": "markdown",
   "metadata": {},
   "source": [
    "Discuss how Wilde's writing style changed over time, as well as how he compares to other authors of his time\n",
    "\n",
    "## Polarity\n",
    "Talk about how we analyzed polarity and make plots of character polarity - maybe connect them back to his life (ie. who/what they represent)"
   ]
  },
  {
   "attachments": {},
   "cell_type": "markdown",
   "metadata": {},
   "source": [
    "Analyze most commonly used words here\n",
    "\n",
    "## What counts as an alliterative sequence?\n",
    "Numerical analysis of Wilde's writing - average length of words, average length of sentences over time\n",
    "Maybe a comparison with another book?"
   ]
  },
  {
   "cell_type": "code",
   "execution_count": null,
   "metadata": {},
   "outputs": [],
   "source": [
    "#polarity plots here"
   ]
  },
  {
   "attachments": {},
   "cell_type": "markdown",
   "metadata": {},
   "source": [
    "## TF-IDF\n",
    "Explain what TF-IDF is, the formula for it, and graph it for individual books\\\n",
    "Also plot TF-IDF of certain words over time "
   ]
  },
  {
   "cell_type": "code",
   "execution_count": null,
   "metadata": {},
   "outputs": [],
   "source": [
    "#TF-IDF plots here"
   ]
  }
 ],
 "metadata": {
  "kernelspec": {
   "display_name": "base",
   "language": "python",
   "name": "python3"
  },
  "language_info": {
   "codemirror_mode": {
    "name": "ipython",
    "version": 3
   },
   "file_extension": ".py",
   "mimetype": "text/x-python",
   "name": "python",
   "nbconvert_exporter": "python",
   "pygments_lexer": "ipython3",
   "version": "3.9.12"
  },
  "orig_nbformat": 4
 },
 "nbformat": 4,
 "nbformat_minor": 2
}
